{
 "cells": [
  {
   "cell_type": "markdown",
   "id": "5b5533f1-d875-461f-b947-f3b49a285749",
   "metadata": {},
   "source": [
    "# QGAI 组第一周周记"
   ]
  },
  {
   "cell_type": "markdown",
   "id": "61ab16de-e4ff-4caf-8121-7fe6fd928874",
   "metadata": {},
   "source": [
    "中期考核的第一周即将结束了，接下来就对本周做个记录总结吧。"
   ]
  },
  {
   "cell_type": "markdown",
   "id": "64c56b0f-1ba0-4a7c-917b-4fb6fc07a2b1",
   "metadata": {},
   "source": [
    "### 生活随记"
   ]
  },
  {
   "cell_type": "markdown",
   "id": "44485ce8-1e51-4e85-a37e-7ea56d7784a2",
   "metadata": {},
   "source": [
    "1.广州天气实在琢磨不透，时常突然要加衣服，或是错过晒被子的时间。\n",
    "2.深度学习中，泡咖啡厅 or 画室\n",
    "3.生活忙碌不少，但也因此工整的多。"
   ]
  },
  {
   "cell_type": "markdown",
   "id": "7663ecae-bfd5-4de6-a3c2-52f464182b6c",
   "metadata": {},
   "source": [
    "2.深度学习中，泡咖啡厅 or 画室。"
   ]
  },
  {
   "cell_type": "markdown",
   "id": "d004a710-f087-4a5a-abb8-126b42174067",
   "metadata": {},
   "source": [
    "3.生活忙碌不少，但也因此工整的多。"
   ]
  },
  {
   "cell_type": "markdown",
   "id": "b6cc39d1-aec8-47f0-9d14-1bb7dce4bf26",
   "metadata": {},
   "source": [
    "### 一周总结"
   ]
  },
  {
   "cell_type": "markdown",
   "id": "2136cf62-0d38-4ff6-b542-fd6eb9e52735",
   "metadata": {},
   "source": [
    "1.学习单，双链表 ADT 的实现"
   ]
  },
  {
   "cell_type": "markdown",
   "id": "691acc7c-51a4-44d2-b016-6934a103a61f",
   "metadata": {},
   "source": [
    "2.学习 jupyter"
   ]
  },
  {
   "cell_type": "markdown",
   "id": "c7de43ad-3631-4465-9c79-7317c6bb917d",
   "metadata": {},
   "source": [
    "3.学习线性回归原理，并尝试代码实现"
   ]
  },
  {
   "cell_type": "markdown",
   "id": "50df09b4-423a-499a-87c3-5f5d9ccfbdd4",
   "metadata": {},
   "source": [
    "4.学习逻辑回归算法"
   ]
  },
  {
   "cell_type": "markdown",
   "id": "dca97b62-d0a8-4751-8fe3-1f2daf5d3964",
   "metadata": {},
   "source": [
    "### 存在问题"
   ]
  },
  {
   "cell_type": "markdown",
   "id": "fa126b5e-4adb-468b-b3c1-c8da58d453ba",
   "metadata": {},
   "source": [
    "1.学习效率低"
   ]
  },
  {
   "cell_type": "markdown",
   "id": "f9d1bbe0-1720-46a9-a329-33524a739da4",
   "metadata": {},
   "source": [
    "2.对于 C 语言不熟悉\n"
   ]
  },
  {
   "cell_type": "markdown",
   "id": "7429e805-d334-4939-9942-f5e73833ad32",
   "metadata": {},
   "source": [
    "3.Github 使用不熟练"
   ]
  },
  {
   "cell_type": "markdown",
   "id": "87f1d64a-197c-48ee-8a54-aee61e4209d3",
   "metadata": {},
   "source": [
    "### 下周规划"
   ]
  },
  {
   "cell_type": "markdown",
   "id": "65a6a7bb-ac0a-4746-a42f-b492ffc3b4ce",
   "metadata": {},
   "source": [
    "1.了解学习树"
   ]
  },
  {
   "cell_type": "markdown",
   "id": "55e69526-8974-40fb-9407-2a9e2938b43c",
   "metadata": {},
   "source": [
    "2.阅读深度学习（ 1-10）章"
   ]
  }
 ],
 "metadata": {
  "kernelspec": {
   "display_name": "Python [conda env:base] *",
   "language": "python",
   "name": "conda-base-py"
  },
  "language_info": {
   "codemirror_mode": {
    "name": "ipython",
    "version": 3
   },
   "file_extension": ".py",
   "mimetype": "text/x-python",
   "name": "python",
   "nbconvert_exporter": "python",
   "pygments_lexer": "ipython3",
   "version": "3.12.7"
  }
 },
 "nbformat": 4,
 "nbformat_minor": 5
}
