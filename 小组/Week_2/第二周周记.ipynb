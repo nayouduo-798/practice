{
 "cells": [
  {
   "cell_type": "markdown",
   "id": "e1cabb96-9391-4ba4-bd0c-bbcf35f67bda",
   "metadata": {},
   "source": [
    "# QGAI组第二周周记"
   ]
  },
  {
   "cell_type": "markdown",
   "id": "f150c268-0cac-4769-bca1-16fd4aa4cdd8",
   "metadata": {},
   "source": [
    "这样的第二周即将结束了，该做个总结了"
   ]
  },
  {
   "cell_type": "markdown",
   "id": "3e5c379a-75e9-4689-8efd-2942294b0c65",
   "metadata": {},
   "source": [
    "## 生活随机"
   ]
  },
  {
   "cell_type": "markdown",
   "id": "6a5e119c-e173-41d4-9cf7-ec63372069a1",
   "metadata": {},
   "source": [
    "1.这周也是非常忙碌，有很多的事情需要处理，不知道最后能否做到满意~"
   ]
  },
  {
   "cell_type": "markdown",
   "id": "4eaaa458-4024-4db1-acaa-36e9d0fa1a2c",
   "metadata": {},
   "source": [
    "2.高温实在是让人头疼啊。"
   ]
  },
  {
   "cell_type": "markdown",
   "id": "169eb038-bf5d-4ca0-9241-3639be989eac",
   "metadata": {},
   "source": [
    "## 一周总结"
   ]
  },
  {
   "cell_type": "markdown",
   "id": "c6b8c19b-29c5-43b2-89b3-efed70e48194",
   "metadata": {},
   "source": [
    "1.学习了深度学习前十章"
   ]
  },
  {
   "cell_type": "markdown",
   "id": "27260089-8d80-46a8-8237-799f0bee4a66",
   "metadata": {},
   "source": [
    "2.学习了kmeans算法"
   ]
  },
  {
   "cell_type": "markdown",
   "id": "5ad0b9e1-7749-45f9-abf5-9ddb3c862e25",
   "metadata": {},
   "source": [
    "## 存在问题"
   ]
  },
  {
   "cell_type": "markdown",
   "id": "48930c27-5672-4661-82b8-d54134fe6232",
   "metadata": {},
   "source": [
    "1.效率低下"
   ]
  },
  {
   "cell_type": "markdown",
   "id": "ef0f6976-89c1-4591-8daa-d7a9cbc4b55d",
   "metadata": {},
   "source": [
    "2.注意力分散"
   ]
  },
  {
   "cell_type": "markdown",
   "id": "77f34e3b-02c5-4172-a1a7-546fd91230e9",
   "metadata": {},
   "source": [
    "## 下周规划"
   ]
  },
  {
   "cell_type": "markdown",
   "id": "7a5bb12f-ba6b-48b9-ae67-1f2d000ebe5e",
   "metadata": {},
   "source": [
    "1.学习《hello》算法"
   ]
  },
  {
   "cell_type": "markdown",
   "id": "c5356e90-06cb-4866-8ca7-bf6812fd0a3d",
   "metadata": {},
   "source": [
    "2.提高效率"
   ]
  },
  {
   "cell_type": "markdown",
   "id": "beba4b2e-5a5c-4443-a511-556236a63b95",
   "metadata": {},
   "source": [
    "3。C语言学习"
   ]
  }
 ],
 "metadata": {
  "kernelspec": {
   "display_name": "Python [conda env:base] *",
   "language": "python",
   "name": "conda-base-py"
  },
  "language_info": {
   "codemirror_mode": {
    "name": "ipython",
    "version": 3
   },
   "file_extension": ".py",
   "mimetype": "text/x-python",
   "name": "python",
   "nbconvert_exporter": "python",
   "pygments_lexer": "ipython3",
   "version": "3.12.7"
  }
 },
 "nbformat": 4,
 "nbformat_minor": 5
}
